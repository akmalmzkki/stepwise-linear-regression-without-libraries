{
 "cells": [
  {
   "cell_type": "markdown",
   "metadata": {
    "collapsed": false
   },
   "source": [
    "# Data Preparation"
   ]
  },
  {
   "cell_type": "code",
   "execution_count": 116,
   "metadata": {
    "collapsed": true,
    "ExecuteTime": {
     "end_time": "2023-06-02T07:49:43.130540300Z",
     "start_time": "2023-06-02T07:49:42.789017Z"
    }
   },
   "outputs": [],
   "source": [
    "import pandas as pd\n",
    "import numpy as np\n",
    "import matplotlib.pyplot as plt\n",
    "import seaborn as sns\n",
    "import scipy.stats as stats\n",
    "\n",
    "from sklearn.preprocessing import MinMaxScaler"
   ]
  },
  {
   "cell_type": "code",
   "execution_count": 117,
   "metadata": {
    "collapsed": false,
    "ExecuteTime": {
     "end_time": "2023-06-02T07:49:43.320813900Z",
     "start_time": "2023-06-02T07:49:42.797987100Z"
    }
   },
   "outputs": [
    {
     "data": {
      "text/plain": "   Unnamed: 0       Country      Area  Birth rate  Current account balance  \\\n0           0         Japan    377835        9.47             170200000000   \n1           1       Germany    357021        8.33              73590000000   \n2           2  Saudi Arabia   1960582       29.56              51500000000   \n3           3        Russia  17075200        9.80              46040000000   \n4           4   Switzerland      4129        9.77              40950000000   \n\n   Death rate  Electricity consumption  Electricity production       Exports  \\\n0        8.95             971000000000           1044000000000  538800000000   \n1       10.55             519500000000            560000000000  893300000000   \n2        2.62             128500000000            138200000000  113000000000   \n3       14.52             894300000000            915000000000  162500000000   \n4        8.48              54530000000             63470000000  130700000000   \n\n             GDP  ...  Life expectancy at birth  Military expenditures  \\\n0  3745000000000  ...                     81.15                    1.0   \n1  2362000000000  ...                     78.65                    1.5   \n2   310200000000  ...                     75.46                   10.0   \n3  1408000000000  ...                     67.10                    0.0   \n4   251900000000  ...                     80.39                    1.0   \n\n   Natural gas consumption  Oil consumption  Population  Public debt  \\\n0             804200000000         52900000  1274172440        164.3   \n1             995500000000         28910000   824313900         65.8   \n2             564000000000         15500000   264175990         75.0   \n3            4058000000000         23100000  1434203090         28.2   \n4              30930000000             2904    74893700         57.2   \n\n   Railways  Reserves of foreign exchange & gold  Total fertility rate  \\\n0     23705                        6646000000000                  1.39   \n1     46039                         968400000000                  1.39   \n2      1392                         236200000000                  4.05   \n3     87157                        1245000000000                  1.27   \n4      4533                         695800000000                  1.42   \n\n   Unemployment rate  \n0                4.7  \n1               10.6  \n2               25.0  \n3                8.3  \n4                3.4  \n\n[5 rows x 30 columns]",
      "text/html": "<div>\n<style scoped>\n    .dataframe tbody tr th:only-of-type {\n        vertical-align: middle;\n    }\n\n    .dataframe tbody tr th {\n        vertical-align: top;\n    }\n\n    .dataframe thead th {\n        text-align: right;\n    }\n</style>\n<table border=\"1\" class=\"dataframe\">\n  <thead>\n    <tr style=\"text-align: right;\">\n      <th></th>\n      <th>Unnamed: 0</th>\n      <th>Country</th>\n      <th>Area</th>\n      <th>Birth rate</th>\n      <th>Current account balance</th>\n      <th>Death rate</th>\n      <th>Electricity consumption</th>\n      <th>Electricity production</th>\n      <th>Exports</th>\n      <th>GDP</th>\n      <th>...</th>\n      <th>Life expectancy at birth</th>\n      <th>Military expenditures</th>\n      <th>Natural gas consumption</th>\n      <th>Oil consumption</th>\n      <th>Population</th>\n      <th>Public debt</th>\n      <th>Railways</th>\n      <th>Reserves of foreign exchange &amp; gold</th>\n      <th>Total fertility rate</th>\n      <th>Unemployment rate</th>\n    </tr>\n  </thead>\n  <tbody>\n    <tr>\n      <th>0</th>\n      <td>0</td>\n      <td>Japan</td>\n      <td>377835</td>\n      <td>9.47</td>\n      <td>170200000000</td>\n      <td>8.95</td>\n      <td>971000000000</td>\n      <td>1044000000000</td>\n      <td>538800000000</td>\n      <td>3745000000000</td>\n      <td>...</td>\n      <td>81.15</td>\n      <td>1.0</td>\n      <td>804200000000</td>\n      <td>52900000</td>\n      <td>1274172440</td>\n      <td>164.3</td>\n      <td>23705</td>\n      <td>6646000000000</td>\n      <td>1.39</td>\n      <td>4.7</td>\n    </tr>\n    <tr>\n      <th>1</th>\n      <td>1</td>\n      <td>Germany</td>\n      <td>357021</td>\n      <td>8.33</td>\n      <td>73590000000</td>\n      <td>10.55</td>\n      <td>519500000000</td>\n      <td>560000000000</td>\n      <td>893300000000</td>\n      <td>2362000000000</td>\n      <td>...</td>\n      <td>78.65</td>\n      <td>1.5</td>\n      <td>995500000000</td>\n      <td>28910000</td>\n      <td>824313900</td>\n      <td>65.8</td>\n      <td>46039</td>\n      <td>968400000000</td>\n      <td>1.39</td>\n      <td>10.6</td>\n    </tr>\n    <tr>\n      <th>2</th>\n      <td>2</td>\n      <td>Saudi Arabia</td>\n      <td>1960582</td>\n      <td>29.56</td>\n      <td>51500000000</td>\n      <td>2.62</td>\n      <td>128500000000</td>\n      <td>138200000000</td>\n      <td>113000000000</td>\n      <td>310200000000</td>\n      <td>...</td>\n      <td>75.46</td>\n      <td>10.0</td>\n      <td>564000000000</td>\n      <td>15500000</td>\n      <td>264175990</td>\n      <td>75.0</td>\n      <td>1392</td>\n      <td>236200000000</td>\n      <td>4.05</td>\n      <td>25.0</td>\n    </tr>\n    <tr>\n      <th>3</th>\n      <td>3</td>\n      <td>Russia</td>\n      <td>17075200</td>\n      <td>9.80</td>\n      <td>46040000000</td>\n      <td>14.52</td>\n      <td>894300000000</td>\n      <td>915000000000</td>\n      <td>162500000000</td>\n      <td>1408000000000</td>\n      <td>...</td>\n      <td>67.10</td>\n      <td>0.0</td>\n      <td>4058000000000</td>\n      <td>23100000</td>\n      <td>1434203090</td>\n      <td>28.2</td>\n      <td>87157</td>\n      <td>1245000000000</td>\n      <td>1.27</td>\n      <td>8.3</td>\n    </tr>\n    <tr>\n      <th>4</th>\n      <td>4</td>\n      <td>Switzerland</td>\n      <td>4129</td>\n      <td>9.77</td>\n      <td>40950000000</td>\n      <td>8.48</td>\n      <td>54530000000</td>\n      <td>63470000000</td>\n      <td>130700000000</td>\n      <td>251900000000</td>\n      <td>...</td>\n      <td>80.39</td>\n      <td>1.0</td>\n      <td>30930000000</td>\n      <td>2904</td>\n      <td>74893700</td>\n      <td>57.2</td>\n      <td>4533</td>\n      <td>695800000000</td>\n      <td>1.42</td>\n      <td>3.4</td>\n    </tr>\n  </tbody>\n</table>\n<p>5 rows × 30 columns</p>\n</div>"
     },
     "execution_count": 117,
     "metadata": {},
     "output_type": "execute_result"
    }
   ],
   "source": [
    "df = pd.read_csv('factbook_transform.csv')\n",
    "df.head()"
   ]
  },
  {
   "cell_type": "code",
   "execution_count": 118,
   "metadata": {
    "collapsed": false,
    "ExecuteTime": {
     "end_time": "2023-06-02T07:49:43.321823500Z",
     "start_time": "2023-06-02T07:49:42.831451300Z"
    }
   },
   "outputs": [
    {
     "data": {
      "text/plain": "             GDP       Exports       Imports  \\\n0  3745000000000  538800000000  401800000000   \n1  2362000000000  893300000000  716700000000   \n2   310200000000  113000000000   36210000000   \n3  1408000000000  162500000000   92910000000   \n4   251900000000  130700000000  121100000000   \n\n   Industrial production growth rate  Investment  Unemployment rate  \n0                                6.6        24.0                4.7  \n1                                2.2        17.6               10.6  \n2                                2.8        17.2               25.0  \n3                                6.4        19.1                8.3  \n4                                4.7        20.4                3.4  ",
      "text/html": "<div>\n<style scoped>\n    .dataframe tbody tr th:only-of-type {\n        vertical-align: middle;\n    }\n\n    .dataframe tbody tr th {\n        vertical-align: top;\n    }\n\n    .dataframe thead th {\n        text-align: right;\n    }\n</style>\n<table border=\"1\" class=\"dataframe\">\n  <thead>\n    <tr style=\"text-align: right;\">\n      <th></th>\n      <th>GDP</th>\n      <th>Exports</th>\n      <th>Imports</th>\n      <th>Industrial production growth rate</th>\n      <th>Investment</th>\n      <th>Unemployment rate</th>\n    </tr>\n  </thead>\n  <tbody>\n    <tr>\n      <th>0</th>\n      <td>3745000000000</td>\n      <td>538800000000</td>\n      <td>401800000000</td>\n      <td>6.6</td>\n      <td>24.0</td>\n      <td>4.7</td>\n    </tr>\n    <tr>\n      <th>1</th>\n      <td>2362000000000</td>\n      <td>893300000000</td>\n      <td>716700000000</td>\n      <td>2.2</td>\n      <td>17.6</td>\n      <td>10.6</td>\n    </tr>\n    <tr>\n      <th>2</th>\n      <td>310200000000</td>\n      <td>113000000000</td>\n      <td>36210000000</td>\n      <td>2.8</td>\n      <td>17.2</td>\n      <td>25.0</td>\n    </tr>\n    <tr>\n      <th>3</th>\n      <td>1408000000000</td>\n      <td>162500000000</td>\n      <td>92910000000</td>\n      <td>6.4</td>\n      <td>19.1</td>\n      <td>8.3</td>\n    </tr>\n    <tr>\n      <th>4</th>\n      <td>251900000000</td>\n      <td>130700000000</td>\n      <td>121100000000</td>\n      <td>4.7</td>\n      <td>20.4</td>\n      <td>3.4</td>\n    </tr>\n  </tbody>\n</table>\n</div>"
     },
     "execution_count": 118,
     "metadata": {},
     "output_type": "execute_result"
    }
   ],
   "source": [
    "# Mengambil data GDP, Export, Import, Industrial production growth rate, Investment, dan Unemployment rate\n",
    "df = df[['GDP', 'Exports', 'Imports', 'Industrial production growth rate', 'Investment', 'Unemployment rate']]\n",
    "df.head()"
   ]
  },
  {
   "cell_type": "code",
   "execution_count": 119,
   "metadata": {
    "collapsed": false,
    "ExecuteTime": {
     "end_time": "2023-06-02T07:49:43.322828400Z",
     "start_time": "2023-06-02T07:49:42.846042700Z"
    }
   },
   "outputs": [
    {
     "data": {
      "text/plain": "GDP                                  0\nExports                              0\nImports                              0\nIndustrial production growth rate    0\nInvestment                           0\nUnemployment rate                    0\ndtype: int64"
     },
     "execution_count": 119,
     "metadata": {},
     "output_type": "execute_result"
    }
   ],
   "source": [
    "df.isnull().sum()"
   ]
  },
  {
   "cell_type": "code",
   "execution_count": 120,
   "metadata": {
    "collapsed": false,
    "ExecuteTime": {
     "end_time": "2023-06-02T07:49:43.324834200Z",
     "start_time": "2023-06-02T07:49:42.870042100Z"
    }
   },
   "outputs": [
    {
     "data": {
      "text/plain": "                  Y            X1             X2   X3    X4    X5\n0     3745000000000  538800000000   401800000000  6.6  24.0   4.7\n1     2362000000000  893300000000   716700000000  2.2  17.6  10.6\n2      310200000000  113000000000    36210000000  2.8  17.2  25.0\n3     1408000000000  162500000000    92910000000  6.4  19.1   8.3\n4      251900000000  130700000000   121100000000  4.7  20.4   3.4\n..              ...           ...            ...  ...   ...   ...\n144   1609000000000  336400000000   329300000000  0.7  19.3   8.6\n145    937600000000  172500000000   222000000000  3.0  25.4  10.4\n146   1782000000000  347200000000   439400000000  0.9  16.2   4.8\n147    611700000000   86890000000    98100000000  1.9  25.3   5.1\n148  11750000000000  795000000000  1476000000000  4.4  15.7   5.5\n\n[149 rows x 6 columns]",
      "text/html": "<div>\n<style scoped>\n    .dataframe tbody tr th:only-of-type {\n        vertical-align: middle;\n    }\n\n    .dataframe tbody tr th {\n        vertical-align: top;\n    }\n\n    .dataframe thead th {\n        text-align: right;\n    }\n</style>\n<table border=\"1\" class=\"dataframe\">\n  <thead>\n    <tr style=\"text-align: right;\">\n      <th></th>\n      <th>Y</th>\n      <th>X1</th>\n      <th>X2</th>\n      <th>X3</th>\n      <th>X4</th>\n      <th>X5</th>\n    </tr>\n  </thead>\n  <tbody>\n    <tr>\n      <th>0</th>\n      <td>3745000000000</td>\n      <td>538800000000</td>\n      <td>401800000000</td>\n      <td>6.6</td>\n      <td>24.0</td>\n      <td>4.7</td>\n    </tr>\n    <tr>\n      <th>1</th>\n      <td>2362000000000</td>\n      <td>893300000000</td>\n      <td>716700000000</td>\n      <td>2.2</td>\n      <td>17.6</td>\n      <td>10.6</td>\n    </tr>\n    <tr>\n      <th>2</th>\n      <td>310200000000</td>\n      <td>113000000000</td>\n      <td>36210000000</td>\n      <td>2.8</td>\n      <td>17.2</td>\n      <td>25.0</td>\n    </tr>\n    <tr>\n      <th>3</th>\n      <td>1408000000000</td>\n      <td>162500000000</td>\n      <td>92910000000</td>\n      <td>6.4</td>\n      <td>19.1</td>\n      <td>8.3</td>\n    </tr>\n    <tr>\n      <th>4</th>\n      <td>251900000000</td>\n      <td>130700000000</td>\n      <td>121100000000</td>\n      <td>4.7</td>\n      <td>20.4</td>\n      <td>3.4</td>\n    </tr>\n    <tr>\n      <th>...</th>\n      <td>...</td>\n      <td>...</td>\n      <td>...</td>\n      <td>...</td>\n      <td>...</td>\n      <td>...</td>\n    </tr>\n    <tr>\n      <th>144</th>\n      <td>1609000000000</td>\n      <td>336400000000</td>\n      <td>329300000000</td>\n      <td>0.7</td>\n      <td>19.3</td>\n      <td>8.6</td>\n    </tr>\n    <tr>\n      <th>145</th>\n      <td>937600000000</td>\n      <td>172500000000</td>\n      <td>222000000000</td>\n      <td>3.0</td>\n      <td>25.4</td>\n      <td>10.4</td>\n    </tr>\n    <tr>\n      <th>146</th>\n      <td>1782000000000</td>\n      <td>347200000000</td>\n      <td>439400000000</td>\n      <td>0.9</td>\n      <td>16.2</td>\n      <td>4.8</td>\n    </tr>\n    <tr>\n      <th>147</th>\n      <td>611700000000</td>\n      <td>86890000000</td>\n      <td>98100000000</td>\n      <td>1.9</td>\n      <td>25.3</td>\n      <td>5.1</td>\n    </tr>\n    <tr>\n      <th>148</th>\n      <td>11750000000000</td>\n      <td>795000000000</td>\n      <td>1476000000000</td>\n      <td>4.4</td>\n      <td>15.7</td>\n      <td>5.5</td>\n    </tr>\n  </tbody>\n</table>\n<p>149 rows × 6 columns</p>\n</div>"
     },
     "execution_count": 120,
     "metadata": {},
     "output_type": "execute_result"
    }
   ],
   "source": [
    "# rename kolom\n",
    "df = df.rename(columns={'GDP': 'Y', 'Exports': 'X1', 'Imports': 'X2', 'Industrial production growth rate': 'X3', 'Investment' : 'X4', 'Unemployment rate': 'X5'})\n",
    "df"
   ]
  },
  {
   "cell_type": "code",
   "execution_count": 121,
   "metadata": {
    "collapsed": false,
    "ExecuteTime": {
     "end_time": "2023-06-02T07:49:43.324834200Z",
     "start_time": "2023-06-02T07:49:42.877049400Z"
    }
   },
   "outputs": [
    {
     "data": {
      "text/plain": "              Y          X1          X2         X3         X4         X5\n0     31.871100   60.315386   27.220201  38.095238  36.866359   6.714286\n1     20.100672  100.000000   48.555482  26.455026  27.035330  15.142857\n2      2.638227   12.649071    2.450542  28.042328  26.420891  35.714286\n3     11.981376   18.190364    6.292112  37.566138  29.339478  11.857143\n4      2.142048   14.630503    8.202057  33.068783  31.336406   4.857143\n..          ...         ...         ...        ...        ...        ...\n144   13.692045   37.657654   22.308140  22.486772  29.646697  12.285714\n145    7.977898   19.309817   15.038290  28.571429  39.016897  14.857143\n146   15.164412   38.866663   29.767697  23.015873  24.884793   6.857143\n147    5.204231    9.726178    6.643748  25.661376  38.863287   7.285714\n148  100.000000   88.995776  100.000000  32.275132  24.116743   7.857143\n\n[149 rows x 6 columns]",
      "text/html": "<div>\n<style scoped>\n    .dataframe tbody tr th:only-of-type {\n        vertical-align: middle;\n    }\n\n    .dataframe tbody tr th {\n        vertical-align: top;\n    }\n\n    .dataframe thead th {\n        text-align: right;\n    }\n</style>\n<table border=\"1\" class=\"dataframe\">\n  <thead>\n    <tr style=\"text-align: right;\">\n      <th></th>\n      <th>Y</th>\n      <th>X1</th>\n      <th>X2</th>\n      <th>X3</th>\n      <th>X4</th>\n      <th>X5</th>\n    </tr>\n  </thead>\n  <tbody>\n    <tr>\n      <th>0</th>\n      <td>31.871100</td>\n      <td>60.315386</td>\n      <td>27.220201</td>\n      <td>38.095238</td>\n      <td>36.866359</td>\n      <td>6.714286</td>\n    </tr>\n    <tr>\n      <th>1</th>\n      <td>20.100672</td>\n      <td>100.000000</td>\n      <td>48.555482</td>\n      <td>26.455026</td>\n      <td>27.035330</td>\n      <td>15.142857</td>\n    </tr>\n    <tr>\n      <th>2</th>\n      <td>2.638227</td>\n      <td>12.649071</td>\n      <td>2.450542</td>\n      <td>28.042328</td>\n      <td>26.420891</td>\n      <td>35.714286</td>\n    </tr>\n    <tr>\n      <th>3</th>\n      <td>11.981376</td>\n      <td>18.190364</td>\n      <td>6.292112</td>\n      <td>37.566138</td>\n      <td>29.339478</td>\n      <td>11.857143</td>\n    </tr>\n    <tr>\n      <th>4</th>\n      <td>2.142048</td>\n      <td>14.630503</td>\n      <td>8.202057</td>\n      <td>33.068783</td>\n      <td>31.336406</td>\n      <td>4.857143</td>\n    </tr>\n    <tr>\n      <th>...</th>\n      <td>...</td>\n      <td>...</td>\n      <td>...</td>\n      <td>...</td>\n      <td>...</td>\n      <td>...</td>\n    </tr>\n    <tr>\n      <th>144</th>\n      <td>13.692045</td>\n      <td>37.657654</td>\n      <td>22.308140</td>\n      <td>22.486772</td>\n      <td>29.646697</td>\n      <td>12.285714</td>\n    </tr>\n    <tr>\n      <th>145</th>\n      <td>7.977898</td>\n      <td>19.309817</td>\n      <td>15.038290</td>\n      <td>28.571429</td>\n      <td>39.016897</td>\n      <td>14.857143</td>\n    </tr>\n    <tr>\n      <th>146</th>\n      <td>15.164412</td>\n      <td>38.866663</td>\n      <td>29.767697</td>\n      <td>23.015873</td>\n      <td>24.884793</td>\n      <td>6.857143</td>\n    </tr>\n    <tr>\n      <th>147</th>\n      <td>5.204231</td>\n      <td>9.726178</td>\n      <td>6.643748</td>\n      <td>25.661376</td>\n      <td>38.863287</td>\n      <td>7.285714</td>\n    </tr>\n    <tr>\n      <th>148</th>\n      <td>100.000000</td>\n      <td>88.995776</td>\n      <td>100.000000</td>\n      <td>32.275132</td>\n      <td>24.116743</td>\n      <td>7.857143</td>\n    </tr>\n  </tbody>\n</table>\n<p>149 rows × 6 columns</p>\n</div>"
     },
     "execution_count": 121,
     "metadata": {},
     "output_type": "execute_result"
    }
   ],
   "source": [
    "# MinMax Scaller dengan rentang 0-100\n",
    "scaler = MinMaxScaler(feature_range=(0, 100))\n",
    "df[['Y', 'X1', 'X2', 'X3', 'X4', 'X5']] = scaler.fit_transform(df[['Y', 'X1', 'X2', 'X3', 'X4', 'X5']])\n",
    "df"
   ]
  },
  {
   "cell_type": "markdown",
   "metadata": {
    "collapsed": false
   },
   "source": [
    "# Model Regressi Linear"
   ]
  },
  {
   "cell_type": "markdown",
   "metadata": {
    "collapsed": false
   },
   "source": [
    "## Membuat persamaan normal menggunakan nilai zigma"
   ]
  },
  {
   "cell_type": "code",
   "execution_count": 122,
   "metadata": {
    "collapsed": false,
    "ExecuteTime": {
     "end_time": "2023-06-02T07:49:43.326839700Z",
     "start_time": "2023-06-02T07:49:42.914627200Z"
    }
   },
   "outputs": [
    {
     "data": {
      "text/plain": "{'X1': 977.1731266763111,\n 'X2': 589.8722593242766,\n 'X3': 5288.888888888889,\n 'X4': 4810.445468509985,\n 'X5': 2625.2857142857147,\n 'Y': 469.99296838257305}"
     },
     "execution_count": 122,
     "metadata": {},
     "output_type": "execute_result"
    }
   ],
   "source": [
    "# Hitung zigma setiap kolom\n",
    "column_names = ['X1', 'X2', 'X3', 'X4', 'X5','Y']\n",
    "zigma_values = {}\n",
    "\n",
    "for column in column_names:\n",
    "    zigma_values[column] = df[column].sum()\n",
    "\n",
    "zigma_values"
   ]
  },
  {
   "cell_type": "code",
   "execution_count": 123,
   "metadata": {
    "collapsed": false,
    "ExecuteTime": {
     "end_time": "2023-06-02T07:49:43.328005400Z",
     "start_time": "2023-06-02T07:49:42.925292400Z"
    }
   },
   "outputs": [
    {
     "data": {
      "text/plain": "{'X1': 39821.64173271906,\n 'X2': 19380.026915542127,\n 'X3': 219407.2114442485,\n 'X4': 182949.7806753642,\n 'X5': 96242.306122449,\n 'Y': 17606.975042667487}"
     },
     "execution_count": 123,
     "metadata": {},
     "output_type": "execute_result"
    }
   ],
   "source": [
    "# Hitung zigma kuadrat setiap kolom\n",
    "column_names = ['X1', 'X2', 'X3', 'X4', 'X5','Y']\n",
    "zigma_squared_values = {}\n",
    "\n",
    "for column in column_names:\n",
    "    zigma_squared_values[column] = (df[column] ** 2).sum()\n",
    "\n",
    "zigma_squared_values"
   ]
  },
  {
   "cell_type": "code",
   "execution_count": 124,
   "metadata": {
    "collapsed": false,
    "ExecuteTime": {
     "end_time": "2023-06-02T07:49:43.329009600Z",
     "start_time": "2023-06-02T07:49:42.941899100Z"
    }
   },
   "outputs": [
    {
     "data": {
      "text/plain": "{'X1_X2': 25953.001464641886,\n 'X1_X3': 34018.94994302864,\n 'X1_X4': 32660.556559644563,\n 'X1_X5': 11164.042171655317,\n 'X2_X3': 20336.38715627849,\n 'X2_X4': 19373.28609246052,\n 'X2_X5': 6506.713204286646,\n 'X3_X4': 176539.3493120068,\n 'X3_X5': 94359.41043083901,\n 'X4_X5': 84354.35593592277}"
     },
     "execution_count": 124,
     "metadata": {},
     "output_type": "execute_result"
    }
   ],
   "source": [
    "# Hitung zigma setiap kolom dikali kolom lain\n",
    "column_names = ['X1', 'X2', 'X3', 'X4', 'X5']\n",
    "zigma_multiply_values = {}\n",
    "\n",
    "for i in range(len(column_names)):\n",
    "    for j in range(i+1, len(column_names)):\n",
    "        column_1 = column_names[i]\n",
    "        column_2 = column_names[j]\n",
    "        zigma_multiply_values[column_1 + '_' + column_2] = (df[column_1] * df[column_2]).sum()\n",
    "\n",
    "zigma_multiply_values"
   ]
  },
  {
   "cell_type": "code",
   "execution_count": 125,
   "metadata": {
    "collapsed": false,
    "ExecuteTime": {
     "end_time": "2023-06-02T07:49:43.329009600Z",
     "start_time": "2023-06-02T07:49:42.957077300Z"
    }
   },
   "outputs": [
    {
     "data": {
      "text/plain": "{'X1_Y': 21068.877649082177,\n 'X2_Y': 16666.24678766226,\n 'X3_Y': 18069.522323494268,\n 'X4_Y': 16591.852630958252,\n 'X5_Y': 5625.304345360601}"
     },
     "execution_count": 125,
     "metadata": {},
     "output_type": "execute_result"
    }
   ],
   "source": [
    "# Hitung zigma setiap kolom dikali Y\n",
    "column_names = ['X1', 'X2', 'X3', 'X4', 'X5']\n",
    "zigma_multiply_y_values = {}\n",
    "\n",
    "for column in column_names:\n",
    "    zigma_multiply_y_values[column + '_Y'] = (df[column] * df['Y']).sum()\n",
    "\n",
    "zigma_multiply_y_values"
   ]
  },
  {
   "cell_type": "code",
   "execution_count": 126,
   "metadata": {
    "collapsed": false,
    "ExecuteTime": {
     "end_time": "2023-06-02T07:49:43.330240200Z",
     "start_time": "2023-06-02T07:49:42.978024800Z"
    }
   },
   "outputs": [
    {
     "data": {
      "text/plain": "    Koefisien\nb0  -3.174322\nb1  -0.253982\nb2   1.200869\nb3   0.054361\nb4   0.035958\nb5   0.008498",
      "text/html": "<div>\n<style scoped>\n    .dataframe tbody tr th:only-of-type {\n        vertical-align: middle;\n    }\n\n    .dataframe tbody tr th {\n        vertical-align: top;\n    }\n\n    .dataframe thead th {\n        text-align: right;\n    }\n</style>\n<table border=\"1\" class=\"dataframe\">\n  <thead>\n    <tr style=\"text-align: right;\">\n      <th></th>\n      <th>Koefisien</th>\n    </tr>\n  </thead>\n  <tbody>\n    <tr>\n      <th>b0</th>\n      <td>-3.174322</td>\n    </tr>\n    <tr>\n      <th>b1</th>\n      <td>-0.253982</td>\n    </tr>\n    <tr>\n      <th>b2</th>\n      <td>1.200869</td>\n    </tr>\n    <tr>\n      <th>b3</th>\n      <td>0.054361</td>\n    </tr>\n    <tr>\n      <th>b4</th>\n      <td>0.035958</td>\n    </tr>\n    <tr>\n      <th>b5</th>\n      <td>0.008498</td>\n    </tr>\n  </tbody>\n</table>\n</div>"
     },
     "execution_count": 126,
     "metadata": {},
     "output_type": "execute_result"
    }
   ],
   "source": [
    "# Matriks koefisien\n",
    "A = np.array([[len(df), zigma_values['X1'], zigma_values['X2'], zigma_values['X3'], zigma_values['X4'], zigma_values['X5']],\n",
    "              [zigma_values['X1'], zigma_squared_values['X1'], zigma_multiply_values['X1_X2'], zigma_multiply_values['X1_X3'], zigma_multiply_values['X1_X4'], zigma_multiply_values['X1_X5']],\n",
    "              [zigma_values['X2'], zigma_multiply_values['X1_X2'], zigma_squared_values['X2'], zigma_multiply_values['X2_X3'], zigma_multiply_values['X2_X4'], zigma_multiply_values['X2_X5']],\n",
    "              [zigma_values['X3'], zigma_multiply_values['X1_X3'], zigma_multiply_values['X2_X3'], zigma_squared_values['X3'], zigma_multiply_values['X3_X4'], zigma_multiply_values['X3_X5']],\n",
    "              [zigma_values['X4'], zigma_multiply_values['X1_X4'], zigma_multiply_values['X2_X4'], zigma_multiply_values['X3_X4'], zigma_squared_values['X4'], zigma_multiply_values['X4_X5']],\n",
    "              [zigma_values['X5'], zigma_multiply_values['X1_X5'], zigma_multiply_values['X2_X5'], zigma_multiply_values['X3_X5'], zigma_multiply_values['X4_X5'], zigma_squared_values['X5']]])\n",
    "# Vektor hasil\n",
    "B = np.array([zigma_values['Y'], zigma_multiply_y_values['X1_Y'], zigma_multiply_y_values['X2_Y'], zigma_multiply_y_values['X3_Y'], zigma_multiply_y_values['X4_Y'], zigma_multiply_y_values['X5_Y']])\n",
    "\n",
    "# Menyelesaikan sistem persamaan linear\n",
    "x = np.linalg.solve(A, B)\n",
    "\n",
    "# Membuat dataframe baru dengan nilai koefisien\n",
    "df_coef = pd.DataFrame(x, index=['b0', 'b1', 'b2', 'b3', 'b4', 'b5'], columns=['Koefisien'])\n",
    "df_coef"
   ]
  },
  {
   "cell_type": "code",
   "execution_count": 127,
   "metadata": {
    "collapsed": false,
    "ExecuteTime": {
     "end_time": "2023-06-02T07:49:43.342573500Z",
     "start_time": "2023-06-02T07:49:43.003444800Z"
    }
   },
   "outputs": [],
   "source": [
    "# Membuat fungsi regresi linear\n",
    "def regresi_linear(x1, x2, x3, x4, x5):\n",
    "    return x[0] + x[1]*x1 + x[2]*x2 + x[3]*x3 + x[4]*x4 + x[5]*x5"
   ]
  },
  {
   "cell_type": "markdown",
   "source": [
    "## Membuat persamaan normal menggunakan matriks"
   ],
   "metadata": {
    "collapsed": false
   }
  },
  {
   "cell_type": "markdown",
   "source": [
    "Y = XB + e\n",
    "\n",
    "Dimana\n",
    "Y = [y1, y2, y3, ..., yn]\n",
    "X = [[1, x11, x12, x13, ..., x1k],\n",
    "     [1, x21, x22, x23, ..., x2k],\n",
    "     [1, x31, x32, x33, ..., x3k],\n",
    "     ...\n",
    "     [1, xn1, xn2, xn3, ..., xnk]]\n",
    "B = [b0, b1, b2, b3, ..., bk]"
   ],
   "metadata": {
    "collapsed": false
   }
  },
  {
   "cell_type": "code",
   "execution_count": 128,
   "outputs": [],
   "source": [
    "# Membuat matriks Y\n",
    "Y = np.array(df['Y'])\n",
    "\n",
    "# Membuat matriks X\n",
    "X = np.array([[1, df['X1'][i], df['X2'][i], df['X3'][i], df['X4'][i], df['X5'][i]] for i in range(len(df))])"
   ],
   "metadata": {
    "collapsed": false,
    "ExecuteTime": {
     "end_time": "2023-06-02T07:49:43.342573500Z",
     "start_time": "2023-06-02T07:49:43.023950900Z"
    }
   }
  },
  {
   "cell_type": "markdown",
   "source": [
    "Jika matriks X^T^X mempunyai invers, maka nilai b dapat ditulis menjadi\n",
    "b = (X^T^X)^-1^ X^T^Y"
   ],
   "metadata": {
    "collapsed": false
   }
  },
  {
   "cell_type": "code",
   "execution_count": 129,
   "outputs": [
    {
     "data": {
      "text/plain": "    Koefisien\nb0  -3.174322\nb1  -0.253982\nb2   1.200869\nb3   0.054361\nb4   0.035958\nb5   0.008498",
      "text/html": "<div>\n<style scoped>\n    .dataframe tbody tr th:only-of-type {\n        vertical-align: middle;\n    }\n\n    .dataframe tbody tr th {\n        vertical-align: top;\n    }\n\n    .dataframe thead th {\n        text-align: right;\n    }\n</style>\n<table border=\"1\" class=\"dataframe\">\n  <thead>\n    <tr style=\"text-align: right;\">\n      <th></th>\n      <th>Koefisien</th>\n    </tr>\n  </thead>\n  <tbody>\n    <tr>\n      <th>b0</th>\n      <td>-3.174322</td>\n    </tr>\n    <tr>\n      <th>b1</th>\n      <td>-0.253982</td>\n    </tr>\n    <tr>\n      <th>b2</th>\n      <td>1.200869</td>\n    </tr>\n    <tr>\n      <th>b3</th>\n      <td>0.054361</td>\n    </tr>\n    <tr>\n      <th>b4</th>\n      <td>0.035958</td>\n    </tr>\n    <tr>\n      <th>b5</th>\n      <td>0.008498</td>\n    </tr>\n  </tbody>\n</table>\n</div>"
     },
     "execution_count": 129,
     "metadata": {},
     "output_type": "execute_result"
    }
   ],
   "source": [
    "# Menghitung nilai b\n",
    "b = np.linalg.inv(X.T.dot(X)).dot(X.T).dot(Y)\n",
    "df_coef = pd.DataFrame(b, index=['b0', 'b1', 'b2', 'b3', 'b4', 'b5'], columns=['Koefisien'])\n",
    "df_coef"
   ],
   "metadata": {
    "collapsed": false,
    "ExecuteTime": {
     "end_time": "2023-06-02T07:49:43.345669700Z",
     "start_time": "2023-06-02T07:49:43.036370600Z"
    }
   }
  },
  {
   "cell_type": "code",
   "execution_count": 130,
   "outputs": [
    {
     "data": {
      "text/plain": "array([  469.99296838, 21068.87764908, 16666.24678766, 18069.52232349,\n       16591.85263096,  5625.30434536])"
     },
     "execution_count": 130,
     "metadata": {},
     "output_type": "execute_result"
    }
   ],
   "source": [
    "# Menghitung nilai g\n",
    "g = X.T.dot(Y)\n",
    "g"
   ],
   "metadata": {
    "collapsed": false,
    "ExecuteTime": {
     "end_time": "2023-06-02T07:49:43.358019200Z",
     "start_time": "2023-06-02T07:49:43.049775300Z"
    }
   }
  },
  {
   "cell_type": "markdown",
   "source": [
    "## Pemilihan model"
   ],
   "metadata": {
    "collapsed": false
   }
  },
  {
   "cell_type": "markdown",
   "source": [
    "**Ukuran yang dapat menjadi patokan bahwa model regresi yang dibangun sudah baik adalah:**\n",
    "1. Koefisien Determinasi (R^2^): R^2^ menggambarkan proporsi variasi dalam variabel dependen yang dapat dijelaskan oleh variabel independen dalam model regresi. Semakin tinggi nilai R^2^, semakin baik model regresi dalam menjelaskan variasi dalam data. Nilai R^2^ berkisar antara 0 hingga 1, di mana nilai 1 menunjukkan model yang sempurna cocok dengan data.\n",
    "\n",
    "2. Uji Signifikansi Model: Uji signifikansi model (misalnya, uji F) digunakan untuk menguji apakah model regresi secara keseluruhan memiliki pengaruh yang signifikan terhadap variabel dependen. Jika nilai p-value dari uji tersebut cukup rendah (biasanya kurang dari 0,05), maka kita dapat menyimpulkan bahwa model secara signifikan mempengaruhi variabel dependen.\n",
    "\n",
    "3. Evaluasi Residual: Melihat residual (galat) dari model juga penting. Residual adalah selisih antara nilai yang diamati dan nilai yang diprediksi oleh model. Dalam model yang baik, residual seharusnya tersebar secara acak dan tidak memiliki pola tertentu. Jika ada pola yang tersisa dalam residual, itu bisa menunjukkan adanya struktur yang tidak tercakup oleh model."
   ],
   "metadata": {
    "collapsed": false
   }
  },
  {
   "cell_type": "markdown",
   "source": [
    "JKT = sigma (y[i]^2^) - (sigma (y[i]))^2^ / n\n",
    "JKR = sigma (b[j] * g[j]) - (sigma (y[i]))^2^ / n\n"
   ],
   "metadata": {
    "collapsed": false
   }
  },
  {
   "cell_type": "code",
   "execution_count": 131,
   "outputs": [
    {
     "data": {
      "text/plain": "16124.469067304653"
     },
     "execution_count": 131,
     "metadata": {},
     "output_type": "execute_result"
    }
   ],
   "source": [
    "# Menghitung JKT\n",
    "JKT = 0\n",
    "for i in range(len(Y)):\n",
    "    JKT += Y[i]**2\n",
    "JKT = JKT - (zigma_values['Y'])**2 / len(Y)\n",
    "JKT"
   ],
   "metadata": {
    "collapsed": false,
    "ExecuteTime": {
     "end_time": "2023-06-02T07:49:43.364239600Z",
     "start_time": "2023-06-02T07:49:43.064918400Z"
    }
   }
  },
  {
   "cell_type": "code",
   "execution_count": 132,
   "outputs": [
    {
     "data": {
      "text/plain": "13315.129376087638"
     },
     "execution_count": 132,
     "metadata": {},
     "output_type": "execute_result"
    }
   ],
   "source": [
    "# Menghitung JKR\n",
    "JKR = 0\n",
    "for i in range(len(b)):\n",
    "    JKR += b[i] * g[i]\n",
    "JKR = JKR - (zigma_values['Y'])**2 / len(Y)\n",
    "JKR"
   ],
   "metadata": {
    "collapsed": false,
    "ExecuteTime": {
     "end_time": "2023-06-02T07:49:43.366294Z",
     "start_time": "2023-06-02T07:49:43.079857100Z"
    }
   }
  },
  {
   "cell_type": "markdown",
   "source": [
    "**Koefisien determinasi darab**\n",
    "R^2^ = JKR / JKT"
   ],
   "metadata": {
    "collapsed": false
   }
  },
  {
   "cell_type": "code",
   "execution_count": 133,
   "outputs": [
    {
     "data": {
      "text/plain": "0.8257716468374471"
     },
     "execution_count": 133,
     "metadata": {},
     "output_type": "execute_result"
    }
   ],
   "source": [
    "# Menghitung koefisien determinasi darab (R^2)\n",
    "R2 = JKR / JKT\n",
    "R2"
   ],
   "metadata": {
    "collapsed": false,
    "ExecuteTime": {
     "end_time": "2023-06-02T07:49:43.367315600Z",
     "start_time": "2023-06-02T07:49:43.096510600Z"
    }
   }
  },
  {
   "cell_type": "markdown",
   "source": [
    "Artinya 82,58% variasi dari variabel dependen (Y) dapat dijelaskan oleh variabel independen (X1, X2, X3, X4, X5) dalam model regresi linear berganda."
   ],
   "metadata": {
    "collapsed": false
   }
  },
  {
   "cell_type": "markdown",
   "source": [
    "**Pemilihan peubah bebas yang masuk ke dalam model dapat dilakukan melalui beberapa pendekatan:**\n",
    "\n",
    "1. Pendekatan Pemilihan Maju (Forward Selection): Dimulai dengan model yang hanya termasuk satu peubah bebas, dan secara bertahap menambahkan peubah bebas yang memiliki pengaruh yang signifikan berdasarkan uji statistik. Proses ini berlanjut dengan menambahkan peubah satu per satu hingga tidak ada peubah bebas lain yang signifikan yang dapat ditambahkan.\n",
    "\n",
    "2. Pendekatan Penyisihan Mundur (Backward Elimination): Dimulai dengan model yang termasuk semua peubah bebas yang relevan, kemudian secara bertahap menghapus peubah yang memiliki pengaruh yang tidak signifikan berdasarkan uji statistik (misalnya, uji t). Peubah yang memiliki kontribusi yang paling rendah atau tidak signifikan secara statistik dapat dihapus dari model satu per satu hingga hanya tersisa peubah yang signifikan.\n",
    "\n",
    "3. Pendekatan Regresi Bertahap (Stepwise Regression): Menggabungkan pendekatan penyisihan mundur dan pemilihan maju, di mana peubah bebas ditambahkan atau dihapus berdasarkan kriteria statistik seperti nilai p-value atau peningkatan R^2^. Pendekatan ini memungkinkan penambahan dan penghapusan peubah bebas secara iteratif untuk mencapai model yang lebih baik."
   ],
   "metadata": {
    "collapsed": false
   }
  },
  {
   "cell_type": "markdown",
   "source": [
    "## Metode pemilihan maju\n"
   ],
   "metadata": {
    "collapsed": false
   }
  },
  {
   "cell_type": "markdown",
   "source": [
    "Peubah bebas dimasukkan satu demi satu sampai persamaan regresi yang memuaskan ditemukan. Peubah bebas yang dimasukkan adalah peubah bebas yang memiliki nilai paling tinggi dari uji t. Peubah bebas yang memiliki nilai paling tinggi dari uji t adalah peubah bebas yang memiliki pengaruh yang paling signifikan terhadap variabel dependen."
   ],
   "metadata": {
    "collapsed": false
   }
  },
  {
   "cell_type": "code",
   "execution_count": 134,
   "outputs": [
    {
     "data": {
      "text/plain": "         R^2\nX1  0.600473\nX2  0.797581\nX3  0.003765\nX4  0.004512\nX5  0.008750",
      "text/html": "<div>\n<style scoped>\n    .dataframe tbody tr th:only-of-type {\n        vertical-align: middle;\n    }\n\n    .dataframe tbody tr th {\n        vertical-align: top;\n    }\n\n    .dataframe thead th {\n        text-align: right;\n    }\n</style>\n<table border=\"1\" class=\"dataframe\">\n  <thead>\n    <tr style=\"text-align: right;\">\n      <th></th>\n      <th>R^2</th>\n    </tr>\n  </thead>\n  <tbody>\n    <tr>\n      <th>X1</th>\n      <td>0.600473</td>\n    </tr>\n    <tr>\n      <th>X2</th>\n      <td>0.797581</td>\n    </tr>\n    <tr>\n      <th>X3</th>\n      <td>0.003765</td>\n    </tr>\n    <tr>\n      <th>X4</th>\n      <td>0.004512</td>\n    </tr>\n    <tr>\n      <th>X5</th>\n      <td>0.008750</td>\n    </tr>\n  </tbody>\n</table>\n</div>"
     },
     "execution_count": 134,
     "metadata": {},
     "output_type": "execute_result"
    }
   ],
   "source": [
    "# Langkah 1: Pilih peubah yang memberikan R^2^ terbesar\n",
    "R2_1 = []\n",
    "\n",
    "for var in ['X1', 'X2', 'X3', 'X4', 'X5']:\n",
    "    X = np.array([[1, df[var][i]] for i in range(len(df))])\n",
    "    b = np.linalg.inv(X.T.dot(X)).dot(X.T).dot(Y)\n",
    "    g = X.T.dot(Y)\n",
    "\n",
    "    JKT = 0\n",
    "    for i in range(len(Y)):\n",
    "        JKT += Y[i]**2\n",
    "    JKT = JKT - (np.sum(Y)**2) / len(Y)\n",
    "\n",
    "    JKR = 0\n",
    "    for i in range(len(b)):\n",
    "        JKR += b[i] * g[i]\n",
    "    JKR = JKR - (np.sum(Y)**2) / len(Y)\n",
    "\n",
    "    R2_1.append(JKR / JKT)\n",
    "\n",
    "# Konversikan ke dataframe\n",
    "df_R2 = pd.DataFrame(R2_1, index=['X1', 'X2', 'X3', 'X4', 'X5'], columns=['R^2'])\n",
    "df_R2"
   ],
   "metadata": {
    "collapsed": false,
    "ExecuteTime": {
     "end_time": "2023-06-02T07:49:43.368338Z",
     "start_time": "2023-06-02T07:49:43.114994900Z"
    }
   }
  },
  {
   "cell_type": "markdown",
   "source": [
    "Kita mendapatkan bahwa peubah bebas yang memiliki R^2^ terbesar adalah X2."
   ],
   "metadata": {
    "collapsed": false
   }
  },
  {
   "cell_type": "code",
   "execution_count": 135,
   "outputs": [
    {
     "data": {
      "text/plain": "           R^2\nX1_2  0.018507\nX3_2  0.007143\nX4_2  0.002876\nX5_2  0.000655",
      "text/html": "<div>\n<style scoped>\n    .dataframe tbody tr th:only-of-type {\n        vertical-align: middle;\n    }\n\n    .dataframe tbody tr th {\n        vertical-align: top;\n    }\n\n    .dataframe thead th {\n        text-align: right;\n    }\n</style>\n<table border=\"1\" class=\"dataframe\">\n  <thead>\n    <tr style=\"text-align: right;\">\n      <th></th>\n      <th>R^2</th>\n    </tr>\n  </thead>\n  <tbody>\n    <tr>\n      <th>X1_2</th>\n      <td>0.018507</td>\n    </tr>\n    <tr>\n      <th>X3_2</th>\n      <td>0.007143</td>\n    </tr>\n    <tr>\n      <th>X4_2</th>\n      <td>0.002876</td>\n    </tr>\n    <tr>\n      <th>X5_2</th>\n      <td>0.000655</td>\n    </tr>\n  </tbody>\n</table>\n</div>"
     },
     "execution_count": 135,
     "metadata": {},
     "output_type": "execute_result"
    }
   ],
   "source": [
    "# Langkah 2: Pilih peubah yang memberikan peningkatan R^2^ terbesar bersama dengan peubah yang telah dipilih sebelumnya\n",
    "R2_2 = []\n",
    "\n",
    "for var in ['X1', 'X3', 'X4', 'X5']:\n",
    "    X = np.array([[1, df['X2'][i], df[var][i]] for i in range(len(df))])\n",
    "    b = np.linalg.inv(X.T.dot(X)).dot(X.T).dot(Y)\n",
    "    g = X.T.dot(Y)\n",
    "\n",
    "    JKT = 0\n",
    "    for i in range(len(Y)):\n",
    "        JKT += Y[i]**2\n",
    "    JKT = JKT - (np.sum(Y)**2) / len(Y)\n",
    "\n",
    "    JKR = 0\n",
    "    for i in range(len(b)):\n",
    "        JKR += b[i] * g[i]\n",
    "    JKR = JKR - (np.sum(Y)**2) / len(Y)\n",
    "\n",
    "    R2_2.append((JKR / JKT) - R2_1[1])\n",
    "\n",
    "# Konversikan ke dataframe\n",
    "df_R2 = pd.DataFrame(R2_2, index=['X1_2', 'X3_2', 'X4_2', 'X5_2'], columns=['R^2'])\n",
    "df_R2"
   ],
   "metadata": {
    "collapsed": false,
    "ExecuteTime": {
     "end_time": "2023-06-02T07:49:43.368338Z",
     "start_time": "2023-06-02T07:49:43.148521600Z"
    }
   }
  },
  {
   "cell_type": "markdown",
   "source": [
    "Kita mendapatkan bahwa peubah bebas yang memiliki peningkatan R^2^ terbesar adalah X1_2."
   ],
   "metadata": {
    "collapsed": false
   }
  },
  {
   "cell_type": "code",
   "execution_count": 136,
   "outputs": [
    {
     "data": {
      "text/plain": "20.311542017341882"
     },
     "execution_count": 136,
     "metadata": {},
     "output_type": "execute_result"
    }
   ],
   "source": [
    "# Mencari nilai s^2 (rataan kuadrat galat untuk model yang memuat X1_2)\n",
    "X = np.array([[1, df['X2'][i], df['X1'][i]] for i in range(len(df))])\n",
    "b = np.linalg.inv(X.T.dot(X)).dot(X.T).dot(Y)\n",
    "g = X.T.dot(Y)\n",
    "\n",
    "JKT = 0\n",
    "for i in range(len(Y)):\n",
    "    JKT += Y[i]**2\n",
    "JKT = JKT - (np.sum(Y)**2) / len(Y)\n",
    "\n",
    "JKR = 0\n",
    "for i in range(len(b)):\n",
    "    JKR += b[i] * g[i]\n",
    "JKR = JKR - (np.sum(Y)**2) / len(Y)\n",
    "\n",
    "JKG = JKT - JKR\n",
    "s2 = JKG / (len(Y) - 3)\n",
    "s2"
   ],
   "metadata": {
    "collapsed": false,
    "ExecuteTime": {
     "end_time": "2023-06-02T07:49:43.368338Z",
     "start_time": "2023-06-02T07:49:43.177588300Z"
    }
   }
  },
  {
   "cell_type": "code",
   "execution_count": 137,
   "outputs": [
    {
     "name": "stdout",
     "output_type": "stream",
     "text": [
      "f_hitung = 0.0009111340959806667 > f_tabel = 0.00015762683308392223\n",
      "Maka, X1_2 masuk ke dalam model\n"
     ]
    }
   ],
   "source": [
    "# Membandingan dengan nilai f tabel\n",
    "f_hitung = R2_2[0] / s2\n",
    "f_tabel = stats.f.ppf(0.01, 1, len(Y) - 3)\n",
    "\n",
    "if f_hitung > f_tabel:\n",
    "    print('f_hitung =', f_hitung, '>', 'f_tabel =', f_tabel)\n",
    "    print('Maka, X1_2 masuk ke dalam model')\n",
    "else:\n",
    "    print('f_hitung =', f_hitung, '<', 'f_tabel =', f_tabel)\n",
    "    print('Maka, X1_2 tidak masuk ke dalam model')"
   ],
   "metadata": {
    "collapsed": false,
    "ExecuteTime": {
     "end_time": "2023-06-02T07:49:43.378675300Z",
     "start_time": "2023-06-02T07:49:43.190593300Z"
    }
   }
  },
  {
   "cell_type": "code",
   "execution_count": 138,
   "outputs": [
    {
     "data": {
      "text/plain": "            R^2\nX3_12  0.007356\nX4_12  0.003824\nX5_12  0.000276",
      "text/html": "<div>\n<style scoped>\n    .dataframe tbody tr th:only-of-type {\n        vertical-align: middle;\n    }\n\n    .dataframe tbody tr th {\n        vertical-align: top;\n    }\n\n    .dataframe thead th {\n        text-align: right;\n    }\n</style>\n<table border=\"1\" class=\"dataframe\">\n  <thead>\n    <tr style=\"text-align: right;\">\n      <th></th>\n      <th>R^2</th>\n    </tr>\n  </thead>\n  <tbody>\n    <tr>\n      <th>X3_12</th>\n      <td>0.007356</td>\n    </tr>\n    <tr>\n      <th>X4_12</th>\n      <td>0.003824</td>\n    </tr>\n    <tr>\n      <th>X5_12</th>\n      <td>0.000276</td>\n    </tr>\n  </tbody>\n</table>\n</div>"
     },
     "execution_count": 138,
     "metadata": {},
     "output_type": "execute_result"
    }
   ],
   "source": [
    "# Langkah 3: Pilih peubah yang memberikan peningkatan R^2^ terbesar bersama dengan peubah yang telah dipilih sebelumnya\n",
    "\n",
    "R2_3 = []\n",
    "for var in ['X3', 'X4', 'X5']:\n",
    "    X = np.array([[1, df['X2'][i], df['X1'][i], df[var][i]] for i in range(len(df))])\n",
    "    b = np.linalg.inv(X.T.dot(X)).dot(X.T).dot(Y)\n",
    "    g = X.T.dot(Y)\n",
    "\n",
    "    JKT = 0\n",
    "    for i in range(len(Y)):\n",
    "        JKT += Y[i]**2\n",
    "    JKT = JKT - (np.sum(Y)**2) / len(Y)\n",
    "\n",
    "    JKR = 0\n",
    "    for i in range(len(b)):\n",
    "        JKR += b[i] * g[i]\n",
    "    JKR = JKR - (np.sum(Y)**2) / len(Y)\n",
    "\n",
    "    R2_3.append((JKR / JKT) - (R2_1[1] + R2_2[0]))\n",
    "\n",
    "# Konversikan ke dataframe\n",
    "df_R2 = pd.DataFrame(R2_3, index=['X3_12', 'X4_12', 'X5_12'], columns=['R^2'])\n",
    "df_R2"
   ],
   "metadata": {
    "collapsed": false,
    "ExecuteTime": {
     "end_time": "2023-06-02T07:49:43.378675300Z",
     "start_time": "2023-06-02T07:49:43.212329200Z"
    }
   }
  },
  {
   "cell_type": "markdown",
   "source": [
    "Kita mendapatkan bahwa peubah bebas yang memiliki peningkatan R^2^ terbesar adalah X3_12."
   ],
   "metadata": {
    "collapsed": false
   }
  },
  {
   "cell_type": "code",
   "execution_count": 139,
   "outputs": [
    {
     "data": {
      "text/plain": "19.633661035921087"
     },
     "execution_count": 139,
     "metadata": {},
     "output_type": "execute_result"
    }
   ],
   "source": [
    "# Mencari nilai s^2 (rataan kuadrat galat untuk model yang memuat X1_2 dan X3_3)\n",
    "X = np.array([[1, df['X2'][i], df['X1'][i], df['X3'][i]] for i in range(len(df))])\n",
    "b = np.linalg.inv(X.T.dot(X)).dot(X.T).dot(Y)\n",
    "g = X.T.dot(Y)\n",
    "\n",
    "JKT = 0\n",
    "for i in range(len(Y)):\n",
    "    JKT += Y[i]**2\n",
    "JKT = JKT - (np.sum(Y)**2) / len(Y)\n",
    "\n",
    "JKR = 0\n",
    "for i in range(len(b)):\n",
    "    JKR += b[i] * g[i]\n",
    "JKR = JKR - (np.sum(Y)**2) / len(Y)\n",
    "\n",
    "JKG = JKT - JKR\n",
    "s2 = JKG / (len(Y) - 4)\n",
    "s2"
   ],
   "metadata": {
    "collapsed": false,
    "ExecuteTime": {
     "end_time": "2023-06-02T07:49:43.378675300Z",
     "start_time": "2023-06-02T07:49:43.241978300Z"
    }
   }
  },
  {
   "cell_type": "code",
   "execution_count": 140,
   "outputs": [
    {
     "name": "stdout",
     "output_type": "stream",
     "text": [
      "f_hitung = 0.00037463958605907775 > f_tabel = 0.00015763055651036697\n",
      "Maka, X3_12 masuk ke dalam model\n"
     ]
    }
   ],
   "source": [
    "# Membandingkan dengan nilai f tabel\n",
    "f_hitung = R2_3[0] / s2\n",
    "f_tabel = stats.f.ppf(0.01, 1, len(Y) - 4)\n",
    "\n",
    "if f_hitung > f_tabel:\n",
    "    print('f_hitung =', f_hitung, '>', 'f_tabel =', f_tabel)\n",
    "    print('Maka, X3_12 masuk ke dalam model')\n",
    "else:\n",
    "    print('f_hitung =', f_hitung, '<', 'f_tabel =', f_tabel)\n",
    "    print('Maka, X3_12 tidak masuk ke dalam model')\n"
   ],
   "metadata": {
    "collapsed": false,
    "ExecuteTime": {
     "end_time": "2023-06-02T07:49:43.378675300Z",
     "start_time": "2023-06-02T07:49:43.253416500Z"
    }
   }
  },
  {
   "cell_type": "code",
   "execution_count": 141,
   "outputs": [
    {
     "data": {
      "text/plain": "             R^2\nX4_123  0.002109\nX5_123  0.000205",
      "text/html": "<div>\n<style scoped>\n    .dataframe tbody tr th:only-of-type {\n        vertical-align: middle;\n    }\n\n    .dataframe tbody tr th {\n        vertical-align: top;\n    }\n\n    .dataframe thead th {\n        text-align: right;\n    }\n</style>\n<table border=\"1\" class=\"dataframe\">\n  <thead>\n    <tr style=\"text-align: right;\">\n      <th></th>\n      <th>R^2</th>\n    </tr>\n  </thead>\n  <tbody>\n    <tr>\n      <th>X4_123</th>\n      <td>0.002109</td>\n    </tr>\n    <tr>\n      <th>X5_123</th>\n      <td>0.000205</td>\n    </tr>\n  </tbody>\n</table>\n</div>"
     },
     "execution_count": 141,
     "metadata": {},
     "output_type": "execute_result"
    }
   ],
   "source": [
    "# Langkah 4: Pilih peubah yang memberikan peningkatan R^2^ terbesar bersama dengan peubah yang telah dipilih sebelumnya\n",
    "\n",
    "R2_4 = []\n",
    "for var in ['X4', 'X5']:\n",
    "    X = np.array([[1, df['X2'][i], df['X1'][i], df['X3'][i], df[var][i]] for i in range(len(df))])\n",
    "    b = np.linalg.inv(X.T.dot(X)).dot(X.T).dot(Y)\n",
    "    g = X.T.dot(Y)\n",
    "\n",
    "    JKT = 0\n",
    "    for i in range(len(Y)):\n",
    "        JKT += Y[i]**2\n",
    "    JKT = JKT - (np.sum(Y)**2) / len(Y)\n",
    "\n",
    "    JKR = 0\n",
    "    for i in range(len(b)):\n",
    "        JKR += b[i] * g[i]\n",
    "    JKR = JKR - (np.sum(Y)**2) / len(Y)\n",
    "\n",
    "    R2_4.append((JKR / JKT) - (R2_1[1] + R2_2[0] + R2_3[0]))\n",
    "\n",
    "# Konversikan ke dataframe\n",
    "df_R2 = pd.DataFrame(R2_4, index=['X4_123', 'X5_123'], columns=['R^2'])\n",
    "df_R2"
   ],
   "metadata": {
    "collapsed": false,
    "ExecuteTime": {
     "end_time": "2023-06-02T07:49:43.379682Z",
     "start_time": "2023-06-02T07:49:43.273946Z"
    }
   }
  },
  {
   "cell_type": "code",
   "execution_count": 142,
   "outputs": [
    {
     "data": {
      "text/plain": "19.533801322269923"
     },
     "execution_count": 142,
     "metadata": {},
     "output_type": "execute_result"
    }
   ],
   "source": [
    "# Mencari nilai s^2 (rataan kuadrat galat untuk model yang memuat X1_2, X3_3, dan X4_4)\n",
    "X = np.array([[1, df['X2'][i], df['X1'][i], df['X3'][i], df['X4'][i]] for i in range(len(df))])\n",
    "b = np.linalg.inv(X.T.dot(X)).dot(X.T).dot(Y)\n",
    "g = X.T.dot(Y)\n",
    "\n",
    "JKT = 0\n",
    "for i in range(len(Y)):\n",
    "    JKT += Y[i]**2\n",
    "JKT = JKT - (np.sum(Y)**2) / len(Y)\n",
    "\n",
    "JKR = 0\n",
    "for i in range(len(b)):\n",
    "    JKR += b[i] * g[i]\n",
    "JKR = JKR - (np.sum(Y)**2) / len(Y)\n",
    "\n",
    "JKG = JKT - JKR\n",
    "s2 = JKG / (len(Y) - 5)\n",
    "s2"
   ],
   "metadata": {
    "collapsed": false,
    "ExecuteTime": {
     "end_time": "2023-06-02T07:49:43.379682Z",
     "start_time": "2023-06-02T07:49:43.302927200Z"
    }
   }
  },
  {
   "cell_type": "code",
   "execution_count": 143,
   "outputs": [
    {
     "name": "stdout",
     "output_type": "stream",
     "text": [
      "f_hitung = 0.00010798877640987085 < f_tabel = 0.0001576343317396486\n",
      "Maka, X4_123 tidak masuk ke dalam model\n"
     ]
    }
   ],
   "source": [
    "# Membandingkan dengan nilai f tabel\n",
    "f_hitung = R2_4[0] / s2\n",
    "f_tabel = stats.f.ppf(0.01, 1, len(Y) - 5)\n",
    "\n",
    "if f_hitung > f_tabel:\n",
    "    print('f_hitung =', f_hitung, '>', 'f_tabel =', f_tabel)\n",
    "    print('Maka, X4_123 masuk ke dalam model')\n",
    "else:\n",
    "    print('f_hitung =', f_hitung, '<', 'f_tabel =', f_tabel)\n",
    "    print('Maka, X4_123 tidak masuk ke dalam model')"
   ],
   "metadata": {
    "collapsed": false,
    "ExecuteTime": {
     "end_time": "2023-06-02T07:49:43.403993500Z",
     "start_time": "2023-06-02T07:49:43.317296300Z"
    }
   }
  },
  {
   "cell_type": "markdown",
   "source": [
    "## Persamaan regresi"
   ],
   "metadata": {
    "collapsed": false
   }
  },
  {
   "cell_type": "markdown",
   "source": [
    "Karena nilai f hitung ketika x4 dimasukkan ke dalam model adalah lebih kecil dari f tabel, maka kita akan menggunakan model regresi yang memuat X2, X1_2, dan X3_12 (X2, X1, X3)"
   ],
   "metadata": {
    "collapsed": false
   }
  },
  {
   "cell_type": "code",
   "execution_count": 144,
   "outputs": [
    {
     "data": {
      "text/plain": "array([-2.10760826,  1.19575238, -0.25080587,  0.0612163 ])"
     },
     "execution_count": 144,
     "metadata": {},
     "output_type": "execute_result"
    }
   ],
   "source": [
    "# Mencari nilai b\n",
    "X = np.array([[1, df['X2'][i], df['X1'][i], df['X3'][i]] for i in range(len(df))])\n",
    "b = np.linalg.inv(X.T.dot(X)).dot(X.T).dot(Y)\n",
    "b"
   ],
   "metadata": {
    "collapsed": false,
    "ExecuteTime": {
     "end_time": "2023-06-02T07:49:43.654218500Z",
     "start_time": "2023-06-02T07:49:43.333766700Z"
    }
   }
  },
  {
   "cell_type": "code",
   "execution_count": 145,
   "outputs": [
    {
     "data": {
      "text/plain": "0.8234434362877017"
     },
     "execution_count": 145,
     "metadata": {},
     "output_type": "execute_result"
    }
   ],
   "source": [
    "# Menghitung R2\n",
    "g = X.T.dot(Y)\n",
    "\n",
    "JKT = 0\n",
    "for i in range(len(Y)):\n",
    "    JKT += Y[i]**2\n",
    "JKT = JKT - (np.sum(Y)**2) / len(Y)\n",
    "\n",
    "JKR = 0\n",
    "for i in range(len(b)):\n",
    "    JKR += b[i] * g[i]\n",
    "JKR = JKR - (np.sum(Y)**2) / len(Y)\n",
    "\n",
    "R2 = JKR / JKT\n",
    "R2"
   ],
   "metadata": {
    "collapsed": false,
    "ExecuteTime": {
     "end_time": "2023-06-02T07:49:43.701005Z",
     "start_time": "2023-06-02T07:49:43.350788200Z"
    }
   }
  },
  {
   "cell_type": "markdown",
   "source": [
    "Artinya, terdapat 82.34% variasi Y yang dapat dijelaskan oleh model regresi yang memuat X2, X1_2, dan X3_12 (X2, X1, X3)."
   ],
   "metadata": {
    "collapsed": false
   }
  }
 ],
 "metadata": {
  "kernelspec": {
   "display_name": "Python 3",
   "language": "python",
   "name": "python3"
  },
  "language_info": {
   "codemirror_mode": {
    "name": "ipython",
    "version": 3
   },
   "file_extension": ".py",
   "mimetype": "text/x-python",
   "name": "python",
   "nbconvert_exporter": "python",
   "pygments_lexer": "ipython3",
   "version": "3.11.0"
  }
 },
 "nbformat": 4,
 "nbformat_minor": 0
}
